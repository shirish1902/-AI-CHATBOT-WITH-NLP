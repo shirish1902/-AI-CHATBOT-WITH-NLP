{
  "cells": [
    {
      "cell_type": "code",
      "source": [
        "import string\n",
        "import warnings\n",
        "from sklearn.feature_extraction.text import CountVectorizer, TfidfTransformer\n",
        "from sklearn.pipeline import Pipeline\n",
        "from sklearn.naive_bayes import MultinomialNB\n",
        "\n",
        "warnings.filterwarnings(\"ignore\")\n",
        "data = {\n",
        "    \"hello\": \"Hi there! How can I assist you today?\",\n",
        "    \"how are you\": \"I'm just a bot, but I'm doing great! How about you?\",\n",
        "    \"what is your name\": \"I'm an AI chatbot created to help you.\",\n",
        "    \"favorite travel destination\": \"Hill stations or beaches?\",\n",
        "    \"bye\": \"See you! Have a great day!\",\n",
        "    \"thank you\": \"You're welcome! Happy to help.\"\n",
        "\n",
        "}\n",
        "\n",
        "def clean_text(text):\n",
        "    return text.lower().translate(str.maketrans('', '', string.punctuation))\n",
        "\n",
        "def train_model():\n",
        "    global model, vectorizer\n",
        "    questions = list(data.keys())\n",
        "    responses = list(data.values())\n",
        "\n",
        "    vectorizer = CountVectorizer()\n",
        "    X_train = vectorizer.fit_transform(questions)\n",
        "\n",
        "    model = Pipeline([\n",
        "        ('tfidf', TfidfTransformer()),\n",
        "        ('clf', MultinomialNB())\n",
        "    ])\n",
        "\n",
        "    model.fit(X_train, responses)\n",
        "\n",
        "def chatbot_response(user_input):\n",
        "    user_input = clean_text(user_input)\n",
        "\n",
        "    if user_input.startswith(\"add:\"):\n",
        "        try:\n",
        "            parts = user_input.split(\":\", 2)\n",
        "            if len(parts) == 3:\n",
        "                _, new_question, new_response = parts\n",
        "                new_question = clean_text(new_question.strip())\n",
        "                new_response = new_response.strip()\n",
        "\n",
        "                if new_question and new_response:\n",
        "                    data[new_question] = new_response\n",
        "                    train_model()\n",
        "                    return f\"Added new question: '{new_question}' → '{new_response}'\"\n",
        "                else:\n",
        "                    return \"Invalid format. Use: add:question:response\"\n",
        "            else:\n",
        "                return \"Invalid format. Use: add:question:response\"\n",
        "        except Exception as e:\n",
        "            return f\"Error: {e}\"\n",
        "\n",
        "    try:\n",
        "        X_test = vectorizer.transform([user_input])\n",
        "        return model.predict(X_test)[0]\n",
        "    except:\n",
        "        return \"I'm sorry, I didn't understand that.\"\n",
        "\n",
        "train_model()\n",
        "\n",
        "print(\"Chatbot: Hello! Type 'bye' to exit.\")\n",
        "\n",
        "while True:\n",
        "    user_input = input(\"You: \")\n",
        "    if user_input.lower() == \"bye\":\n",
        "        print(\"Chatbot:\", data[\"bye\"])\n",
        "        break\n",
        "    print(\"Chatbot:\", chatbot_response(user_input))\n"
      ],
      "metadata": {
        "colab": {
          "base_uri": "https://localhost:8080/"
        },
        "id": "6_ke0KJb4Of7",
        "outputId": "6cf80ae7-9a46-4512-abfe-6adad5aa7abc"
      },
      "execution_count": 6,
      "outputs": [
        {
          "output_type": "stream",
          "name": "stdout",
          "text": [
            "Chatbot: Hello! Type 'bye' to exit.\n",
            "You: hello\n",
            "Chatbot: Hi there! How can I assist you today?\n",
            "You: how  are you\n",
            "Chatbot: I'm just a bot, but I'm doing great! How about you?\n",
            "You: what is your name\n",
            "Chatbot: I'm an AI chatbot created to help you.\n",
            "You: bye\n",
            "Chatbot: See you! Have a great day!\n"
          ]
        }
      ]
    }
  ],
  "metadata": {
    "colab": {
      "provenance": []
    },
    "kernelspec": {
      "display_name": "Python 3",
      "name": "python3"
    },
    "language_info": {
      "name": "python"
    }
  },
  "nbformat": 4,
  "nbformat_minor": 0
}